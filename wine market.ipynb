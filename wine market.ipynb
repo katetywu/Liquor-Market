{
 "cells": [
  {
   "cell_type": "code",
   "execution_count": 1,
   "metadata": {
    "collapsed": true
   },
   "outputs": [],
   "source": [
    "import numpy as np\n",
    "import scipy.stats as stats\n",
    "import pandas as pd\n",
    "import seaborn as sns\n",
    "\n",
    "import matplotlib\n",
    "import matplotlib.pyplot as plt\n",
    "\n",
    "%config InlineBackend.figure_format = 'retina'\n",
    "%matplotlib inline\n",
    "\n",
    "plt.style.use('fivethirtyeight')"
   ]
  },
  {
   "cell_type": "code",
   "execution_count": 2,
   "metadata": {
    "collapsed": false
   },
   "outputs": [],
   "source": [
    "iowa = '/Users/Kate/Desktop/ECON628-01-katewu727/datasets/iowa_liquor/Iowa_Liquor_sales_sample_10pct.csv'\n",
    "iowa = pd.read_csv(iowa)"
   ]
  },
  {
   "cell_type": "markdown",
   "metadata": {},
   "source": [
    "## 1. Taking a look at the dataset"
   ]
  },
  {
   "cell_type": "code",
   "execution_count": 3,
   "metadata": {
    "collapsed": false
   },
   "outputs": [
    {
     "data": {
      "text/html": [
       "<div>\n",
       "<table border=\"1\" class=\"dataframe\">\n",
       "  <thead>\n",
       "    <tr style=\"text-align: right;\">\n",
       "      <th></th>\n",
       "      <th>Date</th>\n",
       "      <th>Store Number</th>\n",
       "      <th>City</th>\n",
       "      <th>Zip Code</th>\n",
       "      <th>County Number</th>\n",
       "      <th>County</th>\n",
       "      <th>Category</th>\n",
       "      <th>Category Name</th>\n",
       "      <th>Vendor Number</th>\n",
       "      <th>Item Number</th>\n",
       "      <th>Item Description</th>\n",
       "      <th>Bottle Volume (ml)</th>\n",
       "      <th>State Bottle Cost</th>\n",
       "      <th>State Bottle Retail</th>\n",
       "      <th>Bottles Sold</th>\n",
       "      <th>Sale (Dollars)</th>\n",
       "      <th>Volume Sold (Liters)</th>\n",
       "      <th>Volume Sold (Gallons)</th>\n",
       "    </tr>\n",
       "  </thead>\n",
       "  <tbody>\n",
       "    <tr>\n",
       "      <th>0</th>\n",
       "      <td>11/04/2015</td>\n",
       "      <td>3717</td>\n",
       "      <td>SUMNER</td>\n",
       "      <td>50674</td>\n",
       "      <td>9.0</td>\n",
       "      <td>Bremer</td>\n",
       "      <td>1051100.0</td>\n",
       "      <td>APRICOT BRANDIES</td>\n",
       "      <td>55</td>\n",
       "      <td>54436</td>\n",
       "      <td>Mr. Boston Apricot Brandy</td>\n",
       "      <td>750</td>\n",
       "      <td>$4.50</td>\n",
       "      <td>$6.75</td>\n",
       "      <td>12</td>\n",
       "      <td>$81.00</td>\n",
       "      <td>9.0</td>\n",
       "      <td>2.38</td>\n",
       "    </tr>\n",
       "    <tr>\n",
       "      <th>1</th>\n",
       "      <td>03/02/2016</td>\n",
       "      <td>2614</td>\n",
       "      <td>DAVENPORT</td>\n",
       "      <td>52807</td>\n",
       "      <td>82.0</td>\n",
       "      <td>Scott</td>\n",
       "      <td>1011100.0</td>\n",
       "      <td>BLENDED WHISKIES</td>\n",
       "      <td>395</td>\n",
       "      <td>27605</td>\n",
       "      <td>Tin Cup</td>\n",
       "      <td>750</td>\n",
       "      <td>$13.75</td>\n",
       "      <td>$20.63</td>\n",
       "      <td>2</td>\n",
       "      <td>$41.26</td>\n",
       "      <td>1.5</td>\n",
       "      <td>0.40</td>\n",
       "    </tr>\n",
       "    <tr>\n",
       "      <th>2</th>\n",
       "      <td>02/11/2016</td>\n",
       "      <td>2106</td>\n",
       "      <td>CEDAR FALLS</td>\n",
       "      <td>50613</td>\n",
       "      <td>7.0</td>\n",
       "      <td>Black Hawk</td>\n",
       "      <td>1011200.0</td>\n",
       "      <td>STRAIGHT BOURBON WHISKIES</td>\n",
       "      <td>65</td>\n",
       "      <td>19067</td>\n",
       "      <td>Jim Beam</td>\n",
       "      <td>1000</td>\n",
       "      <td>$12.59</td>\n",
       "      <td>$18.89</td>\n",
       "      <td>24</td>\n",
       "      <td>$453.36</td>\n",
       "      <td>24.0</td>\n",
       "      <td>6.34</td>\n",
       "    </tr>\n",
       "  </tbody>\n",
       "</table>\n",
       "</div>"
      ],
      "text/plain": [
       "         Date  Store Number         City Zip Code  County Number      County  \\\n",
       "0  11/04/2015          3717       SUMNER    50674            9.0      Bremer   \n",
       "1  03/02/2016          2614    DAVENPORT    52807           82.0       Scott   \n",
       "2  02/11/2016          2106  CEDAR FALLS    50613            7.0  Black Hawk   \n",
       "\n",
       "    Category              Category Name  Vendor Number  Item Number  \\\n",
       "0  1051100.0           APRICOT BRANDIES             55        54436   \n",
       "1  1011100.0           BLENDED WHISKIES            395        27605   \n",
       "2  1011200.0  STRAIGHT BOURBON WHISKIES             65        19067   \n",
       "\n",
       "            Item Description  Bottle Volume (ml) State Bottle Cost  \\\n",
       "0  Mr. Boston Apricot Brandy                 750             $4.50   \n",
       "1                    Tin Cup                 750            $13.75   \n",
       "2                   Jim Beam                1000            $12.59   \n",
       "\n",
       "  State Bottle Retail  Bottles Sold Sale (Dollars)  Volume Sold (Liters)  \\\n",
       "0               $6.75            12         $81.00                   9.0   \n",
       "1              $20.63             2         $41.26                   1.5   \n",
       "2              $18.89            24        $453.36                  24.0   \n",
       "\n",
       "   Volume Sold (Gallons)  \n",
       "0                   2.38  \n",
       "1                   0.40  \n",
       "2                   6.34  "
      ]
     },
     "execution_count": 3,
     "metadata": {},
     "output_type": "execute_result"
    }
   ],
   "source": [
    "# Observe the first 3 data in the dataframe\n",
    "iowa.head(3)"
   ]
  },
  {
   "cell_type": "code",
   "execution_count": 4,
   "metadata": {
    "collapsed": false
   },
   "outputs": [
    {
     "data": {
      "text/plain": [
       "Date                      object\n",
       "Store Number               int64\n",
       "City                      object\n",
       "Zip Code                  object\n",
       "County Number            float64\n",
       "County                    object\n",
       "Category                 float64\n",
       "Category Name             object\n",
       "Vendor Number              int64\n",
       "Item Number                int64\n",
       "Item Description          object\n",
       "Bottle Volume (ml)         int64\n",
       "State Bottle Cost         object\n",
       "State Bottle Retail       object\n",
       "Bottles Sold               int64\n",
       "Sale (Dollars)            object\n",
       "Volume Sold (Liters)     float64\n",
       "Volume Sold (Gallons)    float64\n",
       "dtype: object"
      ]
     },
     "execution_count": 4,
     "metadata": {},
     "output_type": "execute_result"
    }
   ],
   "source": [
    "iowa.dtypes"
   ]
  },
  {
   "cell_type": "code",
   "execution_count": 5,
   "metadata": {
    "collapsed": true
   },
   "outputs": [],
   "source": [
    "# Change variable names\n",
    "new_colnames = [x.lower().replace(')','').replace('(','').replace(' ','_') for x in iowa.columns]\n",
    "iowa.columns = new_colnames"
   ]
  },
  {
   "cell_type": "markdown",
   "metadata": {},
   "source": [
    "## 2. Cleaning the dataset"
   ]
  },
  {
   "cell_type": "markdown",
   "metadata": {},
   "source": [
    "### 2-1 Removing signs and converting formats"
   ]
  },
  {
   "cell_type": "code",
   "execution_count": 7,
   "metadata": {
    "collapsed": false
   },
   "outputs": [],
   "source": [
    "# Remove dollar signs\n",
    "iowa['state_bottle_cost']=iowa['state_bottle_cost'].str.replace('$','')\n",
    "iowa['state_bottle_retail']=iowa['state_bottle_retail'].str.replace('$','')\n",
    "iowa['sale_dollars']=iowa['sale_dollars'].str.replace('$','')"
   ]
  },
  {
   "cell_type": "code",
   "execution_count": 8,
   "metadata": {
    "collapsed": false
   },
   "outputs": [],
   "source": [
    "# Convert float to int \n",
    "iowa['county_number']=iowa['county_number'].fillna(0.0).astype(int)\n",
    "iowa['category']= iowa['category'].fillna(0.0).astype(int)"
   ]
  },
  {
   "cell_type": "code",
   "execution_count": 9,
   "metadata": {
    "collapsed": true
   },
   "outputs": [],
   "source": [
    "# Convert str to int\n",
    "iowa['state_bottle_cost']= pd.to_numeric(iowa['state_bottle_cost'],\n",
    "                                        errors=\"coerce\")\n",
    "\n",
    "iowa['state_bottle_retail']= pd.to_numeric(iowa['state_bottle_retail'],\n",
    "                                        errors=\"coerce\")\n",
    "\n",
    "iowa['sale_dollars']= pd.to_numeric(iowa['sale_dollars'],\n",
    "                                        errors=\"coerce\")"
   ]
  },
  {
   "cell_type": "markdown",
   "metadata": {},
   "source": [
    "### 2-2 Dealing with missing observations"
   ]
  },
  {
   "cell_type": "code",
   "execution_count": 10,
   "metadata": {
    "collapsed": false
   },
   "outputs": [
    {
     "data": {
      "text/plain": [
       "date                      0\n",
       "store_number              0\n",
       "city                      0\n",
       "zip_code                  0\n",
       "county_number             0\n",
       "county                 1077\n",
       "category                  0\n",
       "category_name           632\n",
       "vendor_number             0\n",
       "item_number               0\n",
       "item_description          0\n",
       "bottle_volume_ml          0\n",
       "state_bottle_cost         0\n",
       "state_bottle_retail       0\n",
       "bottles_sold              0\n",
       "sale_dollars              0\n",
       "volume_sold_liters        0\n",
       "volume_sold_gallons       0\n",
       "dtype: int64"
      ]
     },
     "execution_count": 10,
     "metadata": {},
     "output_type": "execute_result"
    }
   ],
   "source": [
    "# Detect NAN in the dataframe\n",
    "iowa.isnull().sum()"
   ]
  },
  {
   "cell_type": "code",
   "execution_count": 11,
   "metadata": {
    "collapsed": true
   },
   "outputs": [],
   "source": [
    "iowa=iowa.dropna()"
   ]
  },
  {
   "cell_type": "markdown",
   "metadata": {},
   "source": [
    "### 2-3 Duplicated city names"
   ]
  },
  {
   "cell_type": "code",
   "execution_count": 12,
   "metadata": {
    "collapsed": false
   },
   "outputs": [
    {
     "name": "stdout",
     "output_type": "stream",
     "text": [
      "['ACKLEY', 'ADAIR', 'ADEL', 'AFTON', 'AKRON', 'ALBIA', 'ALDEN', 'ALGONA', 'ALLISON', 'ALTA', 'ALTOONA', 'AMES', 'ANAMOSA', 'ANITA', 'ANKENY', 'ANTHON', 'ARLINGTON', 'ARMSTRONG', \"ARNOLD'S PARK\", 'ARNOLDS PARK', 'ATLANTIC', 'AUDUBON', 'AURELIA', 'AVOCA', 'BALDWIN', 'BANCROFT', 'BAXTER', 'BEDFORD', 'BELLE PLAINE', 'BELLEVUE', 'BELMOND', 'BETTENDORF', 'BEVINGTON', 'BLOOMFIELD', 'BLUE GRASS', 'BONDURANT', 'BOONE', 'BRITT', 'BROOKLYN', 'BUFFALO', 'BUFFALO CENTER', 'BURLINGTON', 'BUSSEY', 'CAMANCHE', 'CAMBRIDGE', 'CARLISLE', 'CARROLL', 'CARTER LAKE', 'CASCADE', 'CASEY', 'CEDAR FALLS', 'CEDAR RAPIDS', 'CENTER POINT', 'CENTERVILLE', 'CENTRAL CITY', 'CHARITON', 'CHARLES CITY', 'CHEROKEE', 'CLARINDA', 'CLARION', 'CLARKSVILLE', 'CLEAR LAKE', 'CLINTON', 'CLIVE', 'COLFAX', 'COLO', 'COLUMBUS JUNCTION', 'CONRAD', 'COON RAPIDS', 'CORALVILLE', 'CORNING', 'CORWITH', 'CORYDON', 'COUNCIL BLUFFS', 'CRESCENT', 'CRESCO', 'CRESTON', 'Carroll', 'Cumming', 'DAKOTA CITY', 'DANVILLE', 'DAVENPORT', 'DAYTON', 'DE SOTO', 'DECORAH', 'DELAWARE', 'DELHI', 'DELMAR', 'DENISON', 'DENVER', 'DES MOINES', 'DEWITT', 'DONNELLSON', 'DOWS', 'DUBUQUE', 'DUMONT', 'DUNLAP', 'DURANT', 'DYERSVILLE', 'DYSART', 'Des Moines', 'Dubuque', 'EAGLE GROVE', 'EARLHAM', 'EARLY', 'EDDYVILLE', 'EDGEWOOD', 'ELDON', 'ELDORA', 'ELDRIDGE', 'ELKADER', 'ELLSWORTH', 'ELMA', 'ELY', 'EMMETSBURG', 'ESTHERVILLE', 'EVANSDALE', 'EVERLY', 'EXIRA', 'FAIRBANK', 'FAIRFAX', 'FAIRFIELD', 'FARLEY', 'FARMINGTON', 'FAYETTE', 'FLOYD', 'FONDA', 'FONTANELLE', 'FOREST CITY', 'FORT ATKINSON', 'FORT DODGE', 'FORT MADISON', 'FREDERICKSBURG', 'GARNER', 'GEORGE', 'GILBERTVILLE', 'GILMORE CITY', 'GLADBROOK', 'GLENWOOD', 'GLIDDEN', 'GOLDFIELD', 'GOWRIE', 'GRAETTINGER', 'GRAND JUNCTION', 'GRAND MOUND', 'GRANGER', 'GREENE', 'GREENFIELD', 'GRIMES', 'GRINNELL', 'GRISWOLD', 'GRUNDY CENTER', 'GUTHRIE CENTER', 'GUTTENBERG', 'GUTTENBURG', 'HAMBURG', 'HAMPTON', 'HARLAN', 'HARPERS FERRY', 'HARTLEY', 'HAWARDEN', 'HAZLETON', 'HIAWATHA', 'HOLSTEIN', 'HOLY CROSS', 'HOSPERS', 'HUBBARD', 'HUDSON', 'HUMBOLDT', 'HUMESTON', 'HUXLEY', 'IDA GROVE', 'INDEPENDENCE', 'INDIANOLA', 'INWOOD', 'IOWA CITY', 'IOWA FALLS', 'IRETON', 'Inwood', 'JEFFERSON', 'JESUP', 'JEWELL', 'JOHNSTON', 'KELLOG', 'KELLOGG', 'KEOKUK', 'KEOSAUQUA', 'KEOTA', 'KINGSLEY', 'KNOXVILLE', 'LA PORTE CITY', 'LAKE CITY', 'LAKE MILLS', 'LAKE PARK', 'LAKE VIEW', 'LAMONI', 'LANSING', 'LARCHWOOD', 'LATIMER', 'LAURENS', 'LAWLER', 'LE CLAIRE', 'LE GRAND', 'LE MARS', 'LECLAIRE', 'LEMARS', 'LENOX', 'LEON', 'LISBON', 'LOGAN', 'LOHRVILLE', 'LOST NATION', 'LOVILIA', 'MADRID', 'MALVERN', 'MANCHESTER', 'MANLY', 'MANNING', 'MANSON', 'MAPLETON', 'MAQUOKETA', 'MARCUS', 'MARENGO', 'MARION', 'MARSHALLTOWN', 'MARTENSDALE', 'MASON CITY', 'MAXWELL', 'MECHANICSVILLE', 'MEDIAPOLIS', 'MELBOURNE', 'MELCHER-DALLAS', 'MERRILL', 'MILFORD', 'MINDEN', 'MISSOURI VALLEY', 'MONONA', 'MONROE', 'MONTEZUMA', 'MONTICELLO', 'MONTROSE', 'MORAVIA', 'MOUNT AYR', 'MOUNT PLEASANT', 'MOUNT VERNON', 'MT PLEASANT', 'MT VERNON', 'MUSCATINE', 'NASHUA', 'NEOLA', 'NEVADA', 'NEW HAMPTON', 'NEW SHARON', 'NEW VIRGINIA', 'NEWTON', 'NORA SPRINGS', 'NORTH ENGLISH', 'NORTH LIBERTY', 'NORTHWOOD', 'NORWALK', 'Northwood', 'OAKLAND', 'OELWEIN', 'OGDEN', 'OKOBOJI', 'ONAWA', 'ORANGE CITY', 'OSAGE', 'OSCEOLA', 'OSKALOOSA', 'OTHO', 'OTTUMWA', 'OTTUWMA', 'PACIFIC JUNCTION', 'PALO', 'PANORA', 'PARKERSBURG', 'PAULLINA', 'PELLA', 'PEOSTA', 'PERRY', 'PLEASANT HILL', 'PLEASANTVILLE', 'POCAHONTAS', 'POLK CITY', 'POSTVILLE', 'PRAIRIE CITY', 'PRIMGHAR', 'PRINCETON', 'RAYMOND', 'RED OAK', 'REINBECK', 'REMSEN', 'RICEVILLE', 'RIVERSIDE', 'ROBINS', 'ROCK RAPIDS', 'ROCK VALLEY', 'ROCKWELL', 'ROCKWELL CITY', 'ROLFE', 'RUTHVEN', 'SAC CITY', 'SANBORN', 'SCHALLER', 'SCHLESWIG', 'SCRANTON', 'SERGEANT BLUFF', 'SHEFFIELD', 'SHELDON', 'SHELLSBURG', 'SHENANDOAH', 'SIBLEY', 'SIGOURNEY', 'SIOUX CENTER', 'SIOUX CITY', 'SIOUX RAPIDS', 'SLATER', 'SLOAN', 'SOLON', 'SPENCER', 'SPIRIT LAKE', 'SPRINGVILLE', 'ST ANSGAR', 'ST CHARLES', 'ST LUCAS', 'STANWOOD', 'STATE CENTER', 'STORM LAKE', 'STORY CITY', 'STRATFORD', 'STRAWBERRY POINT', 'STUART', 'SULLY', 'SUMNER', 'SUTHERLAND', 'SWEA CITY', 'SWISHER', 'TIFFIN', 'TIPTON', 'TOLEDO', 'TRAER', 'TREYNOR', 'TRIPOLI', 'URBANA', 'URBANDALE', 'Urbandale', 'VAN METER', 'VICTOR', 'VILLISCA', 'VINTON', 'WALFORD', 'WALKER', 'WALL LAKE', 'WALNUT', 'WAPELLO', 'WASHBURN', 'WASHINGTON', 'WATERLOO', 'WAUKEE', 'WAUKON', 'WAVERLY', 'WEBSTER CITY', 'WELLMAN', 'WELLSBURG', 'WESLEY', 'WEST BEND', 'WEST BRANCH', 'WEST BURLINGTON', 'WEST DES MOINES', 'WEST LIBERTY', 'WEST POINT', 'WEST UNION', 'WHEATLAND', 'WILLIAMSBURG', 'WILTON', 'WINDSOR HEIGHTS', 'WINTERSET', 'WINTHROP', 'WOODBINE', 'WOODWARD', 'ZWINGLE']\n"
     ]
    }
   ],
   "source": [
    "print sorted(iowa.city.unique())"
   ]
  },
  {
   "cell_type": "code",
   "execution_count": 14,
   "metadata": {
    "collapsed": false
   },
   "outputs": [
    {
     "data": {
      "text/plain": [
       "array(['GUTTENBURG', 'GUTTENBERG'], dtype=object)"
      ]
     },
     "execution_count": 14,
     "metadata": {},
     "output_type": "execute_result"
    }
   ],
   "source": [
    "iowa.loc[iowa.city.map(lambda x: x.startswith('GUTT')),'city'].unique()"
   ]
  },
  {
   "cell_type": "code",
   "execution_count": 15,
   "metadata": {
    "collapsed": true
   },
   "outputs": [],
   "source": [
    "iowa.city = iowa.city.map(lambda x: 'GUTTENBERG' if x == 'GUTTENBURG' else x)\n",
    "iowa.city = iowa.city.map(lambda x: 'ARNOLDS PARK' if x == \"ARNOLD'S PARK\" else x)\n",
    "iowa.city = iowa.city.map(lambda x: x.lower().replace('mount','mt'))"
   ]
  },
  {
   "cell_type": "markdown",
   "metadata": {},
   "source": [
    "### 2-4 Duplicated category IDs"
   ]
  },
  {
   "cell_type": "code",
   "execution_count": 16,
   "metadata": {
    "collapsed": true
   },
   "outputs": [],
   "source": [
    "unique_id = iowa.groupby('category_name').category.apply(lambda x: len(np.unique(x)))"
   ]
  },
  {
   "cell_type": "code",
   "execution_count": 17,
   "metadata": {
    "collapsed": false
   },
   "outputs": [
    {
     "data": {
      "text/plain": [
       "category_name\n",
       "IMPORTED AMARETTO    2\n",
       "Name: category, dtype: int64"
      ]
     },
     "execution_count": 17,
     "metadata": {},
     "output_type": "execute_result"
    }
   ],
   "source": [
    "unique_id[unique_id > 1]"
   ]
  },
  {
   "cell_type": "code",
   "execution_count": 18,
   "metadata": {
    "collapsed": false
   },
   "outputs": [
    {
     "data": {
      "text/plain": [
       "array([1081015, 1082015])"
      ]
     },
     "execution_count": 18,
     "metadata": {},
     "output_type": "execute_result"
    }
   ],
   "source": [
    "iowa.loc[iowa.category_name == 'IMPORTED AMARETTO', 'category'].unique()"
   ]
  },
  {
   "cell_type": "markdown",
   "metadata": {},
   "source": [
    "## 3. Starting the analysis"
   ]
  },
  {
   "cell_type": "code",
   "execution_count": 19,
   "metadata": {
    "collapsed": false
   },
   "outputs": [],
   "source": [
    "# Extract day, month, year from date\n",
    "iowa['year']= pd.DatetimeIndex(iowa['date']).year\n",
    "iowa['month']= pd.DatetimeIndex(iowa['date']).month\n",
    "iowa['day']= pd.DatetimeIndex(iowa['date']).day"
   ]
  },
  {
   "cell_type": "markdown",
   "metadata": {},
   "source": [
    "### 3-1 Detecting problematic stores"
   ]
  },
  {
   "cell_type": "code",
   "execution_count": 20,
   "metadata": {
    "collapsed": true
   },
   "outputs": [],
   "source": [
    "# Count numbers of stores did not open in 2015\n",
    "iowa2015 = iowa[(iowa.year == 2015)]\n",
    "\n",
    "month_per_store = iowa2015.groupby('store_number').month.apply(lambda x: len(np.unique(x)))"
   ]
  },
  {
   "cell_type": "code",
   "execution_count": 22,
   "metadata": {
    "collapsed": false
   },
   "outputs": [
    {
     "name": "stdout",
     "output_type": "stream",
     "text": [
      "(1372,)\n"
     ]
    },
    {
     "data": {
      "text/plain": [
       "store_number\n",
       "2106    12\n",
       "2113    12\n",
       "2130    12\n",
       "2152    12\n",
       "2178    12\n",
       "2190    12\n",
       "2191    12\n",
       "2200    12\n",
       "2205    12\n",
       "2228    12\n",
       "Name: month, dtype: int64"
      ]
     },
     "execution_count": 22,
     "metadata": {},
     "output_type": "execute_result"
    }
   ],
   "source": [
    "print month_per_store.shape\n",
    "month_per_store[0:10]"
   ]
  },
  {
   "cell_type": "code",
   "execution_count": 23,
   "metadata": {
    "collapsed": false
   },
   "outputs": [
    {
     "name": "stdout",
     "output_type": "stream",
     "text": [
      "(543,)\n"
     ]
    }
   ],
   "source": [
    "print month_per_store[month_per_store < 12].shape"
   ]
  },
  {
   "cell_type": "code",
   "execution_count": 24,
   "metadata": {
    "collapsed": false
   },
   "outputs": [
    {
     "data": {
      "text/plain": [
       "12    829\n",
       "11    113\n",
       "10     88\n",
       "9      72\n",
       "8      62\n",
       "7      35\n",
       "6      32\n",
       "3      32\n",
       "5      29\n",
       "1      28\n",
       "4      27\n",
       "2      25\n",
       "Name: month, dtype: int64"
      ]
     },
     "execution_count": 24,
     "metadata": {},
     "output_type": "execute_result"
    }
   ],
   "source": [
    "# See how many stores opened per month\n",
    "month_per_store.value_counts()"
   ]
  },
  {
   "cell_type": "code",
   "execution_count": 26,
   "metadata": {
    "collapsed": false
   },
   "outputs": [
    {
     "data": {
      "text/plain": [
       "(1164,)"
      ]
     },
     "execution_count": 26,
     "metadata": {},
     "output_type": "execute_result"
    }
   ],
   "source": [
    "# Save stores with 8-month record\n",
    "store = month_per_store[month_per_store >= 8]\n",
    "store.shape"
   ]
  },
  {
   "cell_type": "markdown",
   "metadata": {},
   "source": [
    "### 3-2 Creating subsets"
   ]
  },
  {
   "cell_type": "code",
   "execution_count": 30,
   "metadata": {
    "collapsed": false
   },
   "outputs": [
    {
     "data": {
      "text/plain": [
       "array([2106, 2113, 2130, 2152, 2178])"
      ]
     },
     "execution_count": 30,
     "metadata": {},
     "output_type": "execute_result"
    }
   ],
   "source": [
    "store = store.index.values\n",
    "store[0:5]"
   ]
  },
  {
   "cell_type": "code",
   "execution_count": 31,
   "metadata": {
    "collapsed": false
   },
   "outputs": [
    {
     "data": {
      "text/plain": [
       "(213032, 21)"
      ]
     },
     "execution_count": 31,
     "metadata": {},
     "output_type": "execute_result"
    }
   ],
   "source": [
    "subset = iowa2015[iowa2015.store_number.isin(store)]\n",
    "subset.shape"
   ]
  },
  {
   "cell_type": "code",
   "execution_count": 32,
   "metadata": {
    "collapsed": false,
    "scrolled": true
   },
   "outputs": [],
   "source": [
    "subset_agg = subset[['month','store_number','sale_dollars']]"
   ]
  },
  {
   "cell_type": "code",
   "execution_count": 33,
   "metadata": {
    "collapsed": true
   },
   "outputs": [],
   "source": [
    "subset_agg = subset_agg.groupby(['month','store_number']).agg(np.sum).reset_index()"
   ]
  },
  {
   "cell_type": "code",
   "execution_count": 34,
   "metadata": {
    "collapsed": false
   },
   "outputs": [
    {
     "data": {
      "text/html": [
       "<div>\n",
       "<table border=\"1\" class=\"dataframe\">\n",
       "  <thead>\n",
       "    <tr style=\"text-align: right;\">\n",
       "      <th></th>\n",
       "      <th>month</th>\n",
       "      <th>store_number</th>\n",
       "      <th>sale_dollars</th>\n",
       "    </tr>\n",
       "  </thead>\n",
       "  <tbody>\n",
       "    <tr>\n",
       "      <th>0</th>\n",
       "      <td>1</td>\n",
       "      <td>2106</td>\n",
       "      <td>13567.80</td>\n",
       "    </tr>\n",
       "    <tr>\n",
       "      <th>1</th>\n",
       "      <td>1</td>\n",
       "      <td>2113</td>\n",
       "      <td>813.68</td>\n",
       "    </tr>\n",
       "    <tr>\n",
       "      <th>2</th>\n",
       "      <td>1</td>\n",
       "      <td>2130</td>\n",
       "      <td>7725.66</td>\n",
       "    </tr>\n",
       "    <tr>\n",
       "      <th>3</th>\n",
       "      <td>1</td>\n",
       "      <td>2152</td>\n",
       "      <td>1096.72</td>\n",
       "    </tr>\n",
       "    <tr>\n",
       "      <th>4</th>\n",
       "      <td>1</td>\n",
       "      <td>2178</td>\n",
       "      <td>2251.52</td>\n",
       "    </tr>\n",
       "    <tr>\n",
       "      <th>5</th>\n",
       "      <td>1</td>\n",
       "      <td>2190</td>\n",
       "      <td>7970.12</td>\n",
       "    </tr>\n",
       "    <tr>\n",
       "      <th>6</th>\n",
       "      <td>1</td>\n",
       "      <td>2191</td>\n",
       "      <td>6777.38</td>\n",
       "    </tr>\n",
       "    <tr>\n",
       "      <th>7</th>\n",
       "      <td>1</td>\n",
       "      <td>2200</td>\n",
       "      <td>1731.96</td>\n",
       "    </tr>\n",
       "    <tr>\n",
       "      <th>8</th>\n",
       "      <td>1</td>\n",
       "      <td>2205</td>\n",
       "      <td>2968.70</td>\n",
       "    </tr>\n",
       "    <tr>\n",
       "      <th>9</th>\n",
       "      <td>1</td>\n",
       "      <td>2228</td>\n",
       "      <td>1298.01</td>\n",
       "    </tr>\n",
       "  </tbody>\n",
       "</table>\n",
       "</div>"
      ],
      "text/plain": [
       "   month  store_number  sale_dollars\n",
       "0      1          2106      13567.80\n",
       "1      1          2113        813.68\n",
       "2      1          2130       7725.66\n",
       "3      1          2152       1096.72\n",
       "4      1          2178       2251.52\n",
       "5      1          2190       7970.12\n",
       "6      1          2191       6777.38\n",
       "7      1          2200       1731.96\n",
       "8      1          2205       2968.70\n",
       "9      1          2228       1298.01"
      ]
     },
     "execution_count": 34,
     "metadata": {},
     "output_type": "execute_result"
    }
   ],
   "source": [
    "subset_agg[0:10]"
   ]
  },
  {
   "cell_type": "code",
   "execution_count": 37,
   "metadata": {
    "collapsed": false
   },
   "outputs": [
    {
     "data": {
      "text/html": [
       "<div>\n",
       "<table border=\"1\" class=\"dataframe\">\n",
       "  <thead>\n",
       "    <tr style=\"text-align: right;\">\n",
       "      <th></th>\n",
       "      <th>month</th>\n",
       "      <th>sale_dollars</th>\n",
       "    </tr>\n",
       "  </thead>\n",
       "  <tbody>\n",
       "    <tr>\n",
       "      <th>0</th>\n",
       "      <td>1</td>\n",
       "      <td>1668.759331</td>\n",
       "    </tr>\n",
       "    <tr>\n",
       "      <th>1</th>\n",
       "      <td>2</td>\n",
       "      <td>1877.209660</td>\n",
       "    </tr>\n",
       "    <tr>\n",
       "      <th>2</th>\n",
       "      <td>3</td>\n",
       "      <td>2038.586098</td>\n",
       "    </tr>\n",
       "    <tr>\n",
       "      <th>3</th>\n",
       "      <td>4</td>\n",
       "      <td>2084.125000</td>\n",
       "    </tr>\n",
       "    <tr>\n",
       "      <th>4</th>\n",
       "      <td>5</td>\n",
       "      <td>1999.407473</td>\n",
       "    </tr>\n",
       "    <tr>\n",
       "      <th>5</th>\n",
       "      <td>6</td>\n",
       "      <td>2433.799445</td>\n",
       "    </tr>\n",
       "    <tr>\n",
       "      <th>6</th>\n",
       "      <td>7</td>\n",
       "      <td>1904.215199</td>\n",
       "    </tr>\n",
       "    <tr>\n",
       "      <th>7</th>\n",
       "      <td>8</td>\n",
       "      <td>1925.481839</td>\n",
       "    </tr>\n",
       "    <tr>\n",
       "      <th>8</th>\n",
       "      <td>9</td>\n",
       "      <td>2116.437552</td>\n",
       "    </tr>\n",
       "    <tr>\n",
       "      <th>9</th>\n",
       "      <td>10</td>\n",
       "      <td>2504.106534</td>\n",
       "    </tr>\n",
       "  </tbody>\n",
       "</table>\n",
       "</div>"
      ],
      "text/plain": [
       "   month  sale_dollars\n",
       "0      1   1668.759331\n",
       "1      2   1877.209660\n",
       "2      3   2038.586098\n",
       "3      4   2084.125000\n",
       "4      5   1999.407473\n",
       "5      6   2433.799445\n",
       "6      7   1904.215199\n",
       "7      8   1925.481839\n",
       "8      9   2116.437552\n",
       "9     10   2504.106534"
      ]
     },
     "execution_count": 37,
     "metadata": {},
     "output_type": "execute_result"
    }
   ],
   "source": [
    "mean_std_permonth = subset_agg.groupby('month').sale_dollars.agg(np.mean).reset_index()\n",
    "mean_std_permonth[0:10]"
   ]
  },
  {
   "cell_type": "markdown",
   "metadata": {},
   "source": [
    "## 4. Proposing for new tax policy"
   ]
  },
  {
   "cell_type": "markdown",
   "metadata": {},
   "source": [
    "### 4-1 Yearly liquor sold per store in 2015"
   ]
  },
  {
   "cell_type": "code",
   "execution_count": 39,
   "metadata": {
    "collapsed": false
   },
   "outputs": [
    {
     "data": {
      "text/html": [
       "<div>\n",
       "<table border=\"1\" class=\"dataframe\">\n",
       "  <thead>\n",
       "    <tr style=\"text-align: right;\">\n",
       "      <th></th>\n",
       "      <th>store_number</th>\n",
       "      <th>sale_dollars</th>\n",
       "    </tr>\n",
       "  </thead>\n",
       "  <tbody>\n",
       "    <tr>\n",
       "      <th>0</th>\n",
       "      <td>2106</td>\n",
       "      <td>146038.70</td>\n",
       "    </tr>\n",
       "    <tr>\n",
       "      <th>1</th>\n",
       "      <td>2113</td>\n",
       "      <td>9310.22</td>\n",
       "    </tr>\n",
       "    <tr>\n",
       "      <th>2</th>\n",
       "      <td>2130</td>\n",
       "      <td>111583.91</td>\n",
       "    </tr>\n",
       "    <tr>\n",
       "      <th>3</th>\n",
       "      <td>2152</td>\n",
       "      <td>7721.08</td>\n",
       "    </tr>\n",
       "    <tr>\n",
       "      <th>4</th>\n",
       "      <td>2178</td>\n",
       "      <td>24324.18</td>\n",
       "    </tr>\n",
       "    <tr>\n",
       "      <th>5</th>\n",
       "      <td>2190</td>\n",
       "      <td>121689.06</td>\n",
       "    </tr>\n",
       "    <tr>\n",
       "      <th>6</th>\n",
       "      <td>2191</td>\n",
       "      <td>125093.49</td>\n",
       "    </tr>\n",
       "    <tr>\n",
       "      <th>7</th>\n",
       "      <td>2200</td>\n",
       "      <td>22811.55</td>\n",
       "    </tr>\n",
       "    <tr>\n",
       "      <th>8</th>\n",
       "      <td>2205</td>\n",
       "      <td>24623.01</td>\n",
       "    </tr>\n",
       "    <tr>\n",
       "      <th>9</th>\n",
       "      <td>2228</td>\n",
       "      <td>17462.07</td>\n",
       "    </tr>\n",
       "  </tbody>\n",
       "</table>\n",
       "</div>"
      ],
      "text/plain": [
       "   store_number  sale_dollars\n",
       "0          2106     146038.70\n",
       "1          2113       9310.22\n",
       "2          2130     111583.91\n",
       "3          2152       7721.08\n",
       "4          2178      24324.18\n",
       "5          2190     121689.06\n",
       "6          2191     125093.49\n",
       "7          2200      22811.55\n",
       "8          2205      24623.01\n",
       "9          2228      17462.07"
      ]
     },
     "execution_count": 39,
     "metadata": {},
     "output_type": "execute_result"
    }
   ],
   "source": [
    "yearly_sales_perstore = subset_agg.groupby('store_number').sale_dollars.agg(np.sum).reset_index()\n",
    "yearly_sales_perstore[0:10]"
   ]
  },
  {
   "cell_type": "markdown",
   "metadata": {},
   "source": [
    "### 4-2 Yearly profit made per store in 2015"
   ]
  },
  {
   "cell_type": "code",
   "execution_count": 41,
   "metadata": {
    "collapsed": false
   },
   "outputs": [
    {
     "data": {
      "text/plain": [
       "(213032, 21)"
      ]
     },
     "execution_count": 41,
     "metadata": {},
     "output_type": "execute_result"
    }
   ],
   "source": [
    "# Calculate profits of each store above 8-month records\n",
    "stores_up8 = month_per_store[month_per_store >=8].index.values\n",
    "all_store = iowa2015[iowa2015.store_number.isin(stores_up8)]\n",
    "all_store.shape"
   ]
  },
  {
   "cell_type": "code",
   "execution_count": 43,
   "metadata": {
    "collapsed": false
   },
   "outputs": [
    {
     "name": "stderr",
     "output_type": "stream",
     "text": [
      "/Users/Kate/anaconda2/envs/econ/lib/python2.7/site-packages/ipykernel/__main__.py:1: SettingWithCopyWarning: \n",
      "A value is trying to be set on a copy of a slice from a DataFrame.\n",
      "Try using .loc[row_indexer,col_indexer] = value instead\n",
      "\n",
      "See the caveats in the documentation: http://pandas.pydata.org/pandas-docs/stable/indexing.html#indexing-view-versus-copy\n",
      "  if __name__ == '__main__':\n"
     ]
    },
    {
     "data": {
      "text/html": [
       "<div>\n",
       "<table border=\"1\" class=\"dataframe\">\n",
       "  <thead>\n",
       "    <tr style=\"text-align: right;\">\n",
       "      <th></th>\n",
       "      <th>date</th>\n",
       "      <th>store_number</th>\n",
       "      <th>city</th>\n",
       "      <th>zip_code</th>\n",
       "      <th>county_number</th>\n",
       "      <th>county</th>\n",
       "      <th>category</th>\n",
       "      <th>category_name</th>\n",
       "      <th>vendor_number</th>\n",
       "      <th>item_number</th>\n",
       "      <th>...</th>\n",
       "      <th>state_bottle_cost</th>\n",
       "      <th>state_bottle_retail</th>\n",
       "      <th>bottles_sold</th>\n",
       "      <th>sale_dollars</th>\n",
       "      <th>volume_sold_liters</th>\n",
       "      <th>volume_sold_gallons</th>\n",
       "      <th>year</th>\n",
       "      <th>month</th>\n",
       "      <th>day</th>\n",
       "      <th>profit</th>\n",
       "    </tr>\n",
       "  </thead>\n",
       "  <tbody>\n",
       "    <tr>\n",
       "      <th>0</th>\n",
       "      <td>11/04/2015</td>\n",
       "      <td>3717</td>\n",
       "      <td>sumner</td>\n",
       "      <td>50674</td>\n",
       "      <td>9</td>\n",
       "      <td>Bremer</td>\n",
       "      <td>1051100</td>\n",
       "      <td>APRICOT BRANDIES</td>\n",
       "      <td>55</td>\n",
       "      <td>54436</td>\n",
       "      <td>...</td>\n",
       "      <td>4.50</td>\n",
       "      <td>6.75</td>\n",
       "      <td>12</td>\n",
       "      <td>81.00</td>\n",
       "      <td>9.00</td>\n",
       "      <td>2.38</td>\n",
       "      <td>2015</td>\n",
       "      <td>11</td>\n",
       "      <td>4</td>\n",
       "      <td>27.00</td>\n",
       "    </tr>\n",
       "    <tr>\n",
       "      <th>4</th>\n",
       "      <td>08/18/2015</td>\n",
       "      <td>3654</td>\n",
       "      <td>belmond</td>\n",
       "      <td>50421</td>\n",
       "      <td>99</td>\n",
       "      <td>Wright</td>\n",
       "      <td>1031080</td>\n",
       "      <td>VODKA 80 PROOF</td>\n",
       "      <td>297</td>\n",
       "      <td>35918</td>\n",
       "      <td>...</td>\n",
       "      <td>7.20</td>\n",
       "      <td>10.80</td>\n",
       "      <td>12</td>\n",
       "      <td>129.60</td>\n",
       "      <td>21.00</td>\n",
       "      <td>5.55</td>\n",
       "      <td>2015</td>\n",
       "      <td>8</td>\n",
       "      <td>18</td>\n",
       "      <td>43.20</td>\n",
       "    </tr>\n",
       "    <tr>\n",
       "      <th>5</th>\n",
       "      <td>04/20/2015</td>\n",
       "      <td>2569</td>\n",
       "      <td>cedar rapids</td>\n",
       "      <td>52402</td>\n",
       "      <td>57</td>\n",
       "      <td>Linn</td>\n",
       "      <td>1041100</td>\n",
       "      <td>AMERICAN DRY GINS</td>\n",
       "      <td>205</td>\n",
       "      <td>31473</td>\n",
       "      <td>...</td>\n",
       "      <td>13.32</td>\n",
       "      <td>19.98</td>\n",
       "      <td>6</td>\n",
       "      <td>119.88</td>\n",
       "      <td>10.50</td>\n",
       "      <td>2.77</td>\n",
       "      <td>2015</td>\n",
       "      <td>4</td>\n",
       "      <td>20</td>\n",
       "      <td>39.96</td>\n",
       "    </tr>\n",
       "    <tr>\n",
       "      <th>6</th>\n",
       "      <td>08/05/2015</td>\n",
       "      <td>2596</td>\n",
       "      <td>ottumwa</td>\n",
       "      <td>52501</td>\n",
       "      <td>90</td>\n",
       "      <td>Wapello</td>\n",
       "      <td>1051010</td>\n",
       "      <td>AMERICAN GRAPE BRANDIES</td>\n",
       "      <td>85</td>\n",
       "      <td>52806</td>\n",
       "      <td>...</td>\n",
       "      <td>6.66</td>\n",
       "      <td>9.99</td>\n",
       "      <td>3</td>\n",
       "      <td>29.97</td>\n",
       "      <td>2.25</td>\n",
       "      <td>0.59</td>\n",
       "      <td>2015</td>\n",
       "      <td>8</td>\n",
       "      <td>5</td>\n",
       "      <td>9.99</td>\n",
       "    </tr>\n",
       "    <tr>\n",
       "      <th>7</th>\n",
       "      <td>06/25/2015</td>\n",
       "      <td>3456</td>\n",
       "      <td>clear lake</td>\n",
       "      <td>50428</td>\n",
       "      <td>17</td>\n",
       "      <td>Cerro Gordo</td>\n",
       "      <td>1012100</td>\n",
       "      <td>CANADIAN WHISKIES</td>\n",
       "      <td>65</td>\n",
       "      <td>10628</td>\n",
       "      <td>...</td>\n",
       "      <td>15.75</td>\n",
       "      <td>23.63</td>\n",
       "      <td>2</td>\n",
       "      <td>47.26</td>\n",
       "      <td>3.50</td>\n",
       "      <td>0.92</td>\n",
       "      <td>2015</td>\n",
       "      <td>6</td>\n",
       "      <td>25</td>\n",
       "      <td>15.76</td>\n",
       "    </tr>\n",
       "  </tbody>\n",
       "</table>\n",
       "<p>5 rows × 22 columns</p>\n",
       "</div>"
      ],
      "text/plain": [
       "         date  store_number          city zip_code  county_number  \\\n",
       "0  11/04/2015          3717        sumner    50674              9   \n",
       "4  08/18/2015          3654       belmond    50421             99   \n",
       "5  04/20/2015          2569  cedar rapids    52402             57   \n",
       "6  08/05/2015          2596       ottumwa    52501             90   \n",
       "7  06/25/2015          3456    clear lake    50428             17   \n",
       "\n",
       "        county  category            category_name  vendor_number  item_number  \\\n",
       "0       Bremer   1051100         APRICOT BRANDIES             55        54436   \n",
       "4       Wright   1031080           VODKA 80 PROOF            297        35918   \n",
       "5         Linn   1041100        AMERICAN DRY GINS            205        31473   \n",
       "6      Wapello   1051010  AMERICAN GRAPE BRANDIES             85        52806   \n",
       "7  Cerro Gordo   1012100        CANADIAN WHISKIES             65        10628   \n",
       "\n",
       "    ...   state_bottle_cost  state_bottle_retail  bottles_sold  sale_dollars  \\\n",
       "0   ...                4.50                 6.75            12         81.00   \n",
       "4   ...                7.20                10.80            12        129.60   \n",
       "5   ...               13.32                19.98             6        119.88   \n",
       "6   ...                6.66                 9.99             3         29.97   \n",
       "7   ...               15.75                23.63             2         47.26   \n",
       "\n",
       "   volume_sold_liters  volume_sold_gallons  year  month  day  profit  \n",
       "0                9.00                 2.38  2015     11    4   27.00  \n",
       "4               21.00                 5.55  2015      8   18   43.20  \n",
       "5               10.50                 2.77  2015      4   20   39.96  \n",
       "6                2.25                 0.59  2015      8    5    9.99  \n",
       "7                3.50                 0.92  2015      6   25   15.76  \n",
       "\n",
       "[5 rows x 22 columns]"
      ]
     },
     "execution_count": 43,
     "metadata": {},
     "output_type": "execute_result"
    }
   ],
   "source": [
    "all_store['profit'] = (all_store.state_bottle_retail - all_store.state_bottle_cost)*all_store.bottles_sold\n",
    "all_store[0:5]"
   ]
  },
  {
   "cell_type": "code",
   "execution_count": 44,
   "metadata": {
    "collapsed": false
   },
   "outputs": [
    {
     "data": {
      "text/html": [
       "<div>\n",
       "<table border=\"1\" class=\"dataframe\">\n",
       "  <thead>\n",
       "    <tr style=\"text-align: right;\">\n",
       "      <th></th>\n",
       "      <th>store_number</th>\n",
       "      <th>profit</th>\n",
       "    </tr>\n",
       "  </thead>\n",
       "  <tbody>\n",
       "    <tr>\n",
       "      <th>0</th>\n",
       "      <td>2106</td>\n",
       "      <td>48742.20</td>\n",
       "    </tr>\n",
       "    <tr>\n",
       "      <th>1</th>\n",
       "      <td>2113</td>\n",
       "      <td>3109.04</td>\n",
       "    </tr>\n",
       "    <tr>\n",
       "      <th>2</th>\n",
       "      <td>2130</td>\n",
       "      <td>37229.32</td>\n",
       "    </tr>\n",
       "    <tr>\n",
       "      <th>3</th>\n",
       "      <td>2152</td>\n",
       "      <td>2587.53</td>\n",
       "    </tr>\n",
       "    <tr>\n",
       "      <th>4</th>\n",
       "      <td>2178</td>\n",
       "      <td>8165.70</td>\n",
       "    </tr>\n",
       "  </tbody>\n",
       "</table>\n",
       "</div>"
      ],
      "text/plain": [
       "   store_number    profit\n",
       "0          2106  48742.20\n",
       "1          2113   3109.04\n",
       "2          2130  37229.32\n",
       "3          2152   2587.53\n",
       "4          2178   8165.70"
      ]
     },
     "execution_count": 44,
     "metadata": {},
     "output_type": "execute_result"
    }
   ],
   "source": [
    "profit_store = all_store.groupby('store_number').profit.agg(np.sum).reset_index()\n",
    "profit_store[0:5]"
   ]
  },
  {
   "cell_type": "markdown",
   "metadata": {},
   "source": [
    "### 4-3 County with the most profit on liquor sold per gallon in 2015"
   ]
  },
  {
   "cell_type": "code",
   "execution_count": 45,
   "metadata": {
    "collapsed": false
   },
   "outputs": [
    {
     "data": {
      "text/html": [
       "<div>\n",
       "<table border=\"1\" class=\"dataframe\">\n",
       "  <thead>\n",
       "    <tr style=\"text-align: right;\">\n",
       "      <th></th>\n",
       "      <th>county</th>\n",
       "      <th>profit</th>\n",
       "      <th>volume_sold_gallons</th>\n",
       "    </tr>\n",
       "  </thead>\n",
       "  <tbody>\n",
       "    <tr>\n",
       "      <th>0</th>\n",
       "      <td>Adair</td>\n",
       "      <td>13664.27</td>\n",
       "      <td>874.87</td>\n",
       "    </tr>\n",
       "    <tr>\n",
       "      <th>1</th>\n",
       "      <td>Adams</td>\n",
       "      <td>3417.67</td>\n",
       "      <td>216.98</td>\n",
       "    </tr>\n",
       "    <tr>\n",
       "      <th>2</th>\n",
       "      <td>Allamakee</td>\n",
       "      <td>26770.24</td>\n",
       "      <td>1661.77</td>\n",
       "    </tr>\n",
       "    <tr>\n",
       "      <th>3</th>\n",
       "      <td>Appanoose</td>\n",
       "      <td>25739.30</td>\n",
       "      <td>1669.39</td>\n",
       "    </tr>\n",
       "    <tr>\n",
       "      <th>4</th>\n",
       "      <td>Audubon</td>\n",
       "      <td>3911.99</td>\n",
       "      <td>282.85</td>\n",
       "    </tr>\n",
       "  </tbody>\n",
       "</table>\n",
       "</div>"
      ],
      "text/plain": [
       "      county    profit  volume_sold_gallons\n",
       "0      Adair  13664.27               874.87\n",
       "1      Adams   3417.67               216.98\n",
       "2  Allamakee  26770.24              1661.77\n",
       "3  Appanoose  25739.30              1669.39\n",
       "4    Audubon   3911.99               282.85"
      ]
     },
     "execution_count": 45,
     "metadata": {},
     "output_type": "execute_result"
    }
   ],
   "source": [
    "county_profit = all_store.groupby('county')[['profit','volume_sold_gallons']].agg(np.sum).reset_index()\n",
    "county_profit[0:5]"
   ]
  },
  {
   "cell_type": "code",
   "execution_count": 46,
   "metadata": {
    "collapsed": false
   },
   "outputs": [
    {
     "data": {
      "text/html": [
       "<div>\n",
       "<table border=\"1\" class=\"dataframe\">\n",
       "  <thead>\n",
       "    <tr style=\"text-align: right;\">\n",
       "      <th></th>\n",
       "      <th>county</th>\n",
       "      <th>profit</th>\n",
       "      <th>volume_sold_gallons</th>\n",
       "      <th>profit_per_gallon</th>\n",
       "    </tr>\n",
       "  </thead>\n",
       "  <tbody>\n",
       "    <tr>\n",
       "      <th>24</th>\n",
       "      <td>Dallas</td>\n",
       "      <td>167552.10</td>\n",
       "      <td>7915.99</td>\n",
       "      <td>21.166285</td>\n",
       "    </tr>\n",
       "    <tr>\n",
       "      <th>51</th>\n",
       "      <td>Johnson</td>\n",
       "      <td>571153.73</td>\n",
       "      <td>27810.99</td>\n",
       "      <td>20.536979</td>\n",
       "    </tr>\n",
       "    <tr>\n",
       "      <th>76</th>\n",
       "      <td>Polk</td>\n",
       "      <td>2100381.55</td>\n",
       "      <td>107368.97</td>\n",
       "      <td>19.562277</td>\n",
       "    </tr>\n",
       "    <tr>\n",
       "      <th>81</th>\n",
       "      <td>Scott</td>\n",
       "      <td>678862.69</td>\n",
       "      <td>35085.64</td>\n",
       "      <td>19.348733</td>\n",
       "    </tr>\n",
       "    <tr>\n",
       "      <th>50</th>\n",
       "      <td>Jefferson</td>\n",
       "      <td>27896.95</td>\n",
       "      <td>1446.20</td>\n",
       "      <td>19.289829</td>\n",
       "    </tr>\n",
       "  </tbody>\n",
       "</table>\n",
       "</div>"
      ],
      "text/plain": [
       "       county      profit  volume_sold_gallons  profit_per_gallon\n",
       "24     Dallas   167552.10              7915.99          21.166285\n",
       "51    Johnson   571153.73             27810.99          20.536979\n",
       "76       Polk  2100381.55            107368.97          19.562277\n",
       "81      Scott   678862.69             35085.64          19.348733\n",
       "50  Jefferson    27896.95              1446.20          19.289829"
      ]
     },
     "execution_count": 46,
     "metadata": {},
     "output_type": "execute_result"
    }
   ],
   "source": [
    "county_profit['profit_per_gallon'] = county_profit.profit/county_profit.volume_sold_gallons\n",
    "county_profit.sort_values('profit_per_gallon', ascending=False, inplace=True)\n",
    "county_profit[0:5]"
   ]
  },
  {
   "cell_type": "markdown",
   "metadata": {},
   "source": [
    "### 4-4 Profit v.s. Store size"
   ]
  },
  {
   "cell_type": "code",
   "execution_count": 47,
   "metadata": {
    "collapsed": true
   },
   "outputs": [],
   "source": [
    "store_profit_gallon = all_store.groupby('store_number')[['profit','volume_sold_gallons']].agg(np.sum).reset_index()"
   ]
  },
  {
   "cell_type": "code",
   "execution_count": 54,
   "metadata": {
    "collapsed": false
   },
   "outputs": [
    {
     "data": {
      "image/png": "[encoded data removed]",
      "text/plain": [
       "<matplotlib.figure.Figure at 0x1162b0fd0>"
      ]
     },
     "metadata": {
      "image/png": {
       "height": 445,
       "width": 638
      }
     },
     "output_type": "display_data"
    }
   ],
   "source": [
    "fig = plt.figure(figsize=(6,4))\n",
    "ax = fig.gca()\n",
    "\n",
    "profit = store_profit_gallon.profit.values\n",
    "gallons = store_profit_gallon.volume_sold_gallons.values\n",
    "\n",
    "sns.regplot(profit, gallons, ax=ax, scatter_kws={'s':50})\n",
    "ax.set_xlabel('profit', fontsize=14)\n",
    "ax.set_ylabel('gallons', fontsize=14)\n",
    "ax.set_title('Profit vs Gallons sold per store\\n', fontsize=16)\n",
    "plt.show()"
   ]
  },
  {
   "cell_type": "markdown",
   "metadata": {},
   "source": [
    "### 4-5 A broader category for liquor type"
   ]
  },
  {
   "cell_type": "code",
   "execution_count": 59,
   "metadata": {
    "collapsed": false
   },
   "outputs": [
    {
     "name": "stderr",
     "output_type": "stream",
     "text": [
      "/Users/Kate/anaconda2/envs/econ/lib/python2.7/site-packages/ipykernel/__main__.py:10: SettingWithCopyWarning: \n",
      "A value is trying to be set on a copy of a slice from a DataFrame.\n",
      "Try using .loc[row_indexer,col_indexer] = value instead\n",
      "\n",
      "See the caveats in the documentation: http://pandas.pydata.org/pandas-docs/stable/indexing.html#indexing-view-versus-copy\n"
     ]
    }
   ],
   "source": [
    "# Extract specific words from the string to make a substring variable\n",
    "# Cite: Python for Data Anaylsis: Data Wrangling with Pandas, NumPy, and IPython (Page 24)\n",
    "all_store['liquor_type']=np.where(all_store['category_name'].str.contains('VODKA'), \"Vodka\",\n",
    "            np.where(all_store['category_name'].str.contains('WHISKIES'), \"Whisky\",\n",
    "            np.where(all_store['category_name'].str.contains('SCHNAPPS'), \"Schnapp\",\n",
    "            np.where(all_store['category_name'].str.contains('GINS'), \"Gin\",\n",
    "            np.where(all_store['category_name'].str.contains('TRIPLE SEC'), \"Triple Sec\",\n",
    "            np.where(all_store['category_name'].str.contains('TEQUILA'), \"Tequila\",\n",
    "            np.where(all_store['category_name'].str.contains('RUM'), \"Rum\",\n",
    "            np.where(all_store['category_name'].str.contains('BRANDIES'), \"Brandy\", \"Others\"))))))))"
   ]
  },
  {
   "cell_type": "code",
   "execution_count": 60,
   "metadata": {
    "collapsed": false
   },
   "outputs": [
    {
     "data": {
      "text/html": [
       "<div>\n",
       "<table border=\"1\" class=\"dataframe\">\n",
       "  <thead>\n",
       "    <tr style=\"text-align: right;\">\n",
       "      <th></th>\n",
       "      <th>date</th>\n",
       "      <th>store_number</th>\n",
       "      <th>city</th>\n",
       "      <th>zip_code</th>\n",
       "      <th>county_number</th>\n",
       "      <th>county</th>\n",
       "      <th>category</th>\n",
       "      <th>category_name</th>\n",
       "      <th>vendor_number</th>\n",
       "      <th>item_number</th>\n",
       "      <th>...</th>\n",
       "      <th>state_bottle_retail</th>\n",
       "      <th>bottles_sold</th>\n",
       "      <th>sale_dollars</th>\n",
       "      <th>volume_sold_liters</th>\n",
       "      <th>volume_sold_gallons</th>\n",
       "      <th>year</th>\n",
       "      <th>month</th>\n",
       "      <th>day</th>\n",
       "      <th>profit</th>\n",
       "      <th>liquor_type</th>\n",
       "    </tr>\n",
       "  </thead>\n",
       "  <tbody>\n",
       "    <tr>\n",
       "      <th>0</th>\n",
       "      <td>11/04/2015</td>\n",
       "      <td>3717</td>\n",
       "      <td>sumner</td>\n",
       "      <td>50674</td>\n",
       "      <td>9</td>\n",
       "      <td>Bremer</td>\n",
       "      <td>1051100</td>\n",
       "      <td>APRICOT BRANDIES</td>\n",
       "      <td>55</td>\n",
       "      <td>54436</td>\n",
       "      <td>...</td>\n",
       "      <td>6.75</td>\n",
       "      <td>12</td>\n",
       "      <td>81.00</td>\n",
       "      <td>9.00</td>\n",
       "      <td>2.38</td>\n",
       "      <td>2015</td>\n",
       "      <td>11</td>\n",
       "      <td>4</td>\n",
       "      <td>27.00</td>\n",
       "      <td>Brandy</td>\n",
       "    </tr>\n",
       "    <tr>\n",
       "      <th>4</th>\n",
       "      <td>08/18/2015</td>\n",
       "      <td>3654</td>\n",
       "      <td>belmond</td>\n",
       "      <td>50421</td>\n",
       "      <td>99</td>\n",
       "      <td>Wright</td>\n",
       "      <td>1031080</td>\n",
       "      <td>VODKA 80 PROOF</td>\n",
       "      <td>297</td>\n",
       "      <td>35918</td>\n",
       "      <td>...</td>\n",
       "      <td>10.80</td>\n",
       "      <td>12</td>\n",
       "      <td>129.60</td>\n",
       "      <td>21.00</td>\n",
       "      <td>5.55</td>\n",
       "      <td>2015</td>\n",
       "      <td>8</td>\n",
       "      <td>18</td>\n",
       "      <td>43.20</td>\n",
       "      <td>Vodka</td>\n",
       "    </tr>\n",
       "    <tr>\n",
       "      <th>5</th>\n",
       "      <td>04/20/2015</td>\n",
       "      <td>2569</td>\n",
       "      <td>cedar rapids</td>\n",
       "      <td>52402</td>\n",
       "      <td>57</td>\n",
       "      <td>Linn</td>\n",
       "      <td>1041100</td>\n",
       "      <td>AMERICAN DRY GINS</td>\n",
       "      <td>205</td>\n",
       "      <td>31473</td>\n",
       "      <td>...</td>\n",
       "      <td>19.98</td>\n",
       "      <td>6</td>\n",
       "      <td>119.88</td>\n",
       "      <td>10.50</td>\n",
       "      <td>2.77</td>\n",
       "      <td>2015</td>\n",
       "      <td>4</td>\n",
       "      <td>20</td>\n",
       "      <td>39.96</td>\n",
       "      <td>Gin</td>\n",
       "    </tr>\n",
       "    <tr>\n",
       "      <th>6</th>\n",
       "      <td>08/05/2015</td>\n",
       "      <td>2596</td>\n",
       "      <td>ottumwa</td>\n",
       "      <td>52501</td>\n",
       "      <td>90</td>\n",
       "      <td>Wapello</td>\n",
       "      <td>1051010</td>\n",
       "      <td>AMERICAN GRAPE BRANDIES</td>\n",
       "      <td>85</td>\n",
       "      <td>52806</td>\n",
       "      <td>...</td>\n",
       "      <td>9.99</td>\n",
       "      <td>3</td>\n",
       "      <td>29.97</td>\n",
       "      <td>2.25</td>\n",
       "      <td>0.59</td>\n",
       "      <td>2015</td>\n",
       "      <td>8</td>\n",
       "      <td>5</td>\n",
       "      <td>9.99</td>\n",
       "      <td>Brandy</td>\n",
       "    </tr>\n",
       "    <tr>\n",
       "      <th>7</th>\n",
       "      <td>06/25/2015</td>\n",
       "      <td>3456</td>\n",
       "      <td>clear lake</td>\n",
       "      <td>50428</td>\n",
       "      <td>17</td>\n",
       "      <td>Cerro Gordo</td>\n",
       "      <td>1012100</td>\n",
       "      <td>CANADIAN WHISKIES</td>\n",
       "      <td>65</td>\n",
       "      <td>10628</td>\n",
       "      <td>...</td>\n",
       "      <td>23.63</td>\n",
       "      <td>2</td>\n",
       "      <td>47.26</td>\n",
       "      <td>3.50</td>\n",
       "      <td>0.92</td>\n",
       "      <td>2015</td>\n",
       "      <td>6</td>\n",
       "      <td>25</td>\n",
       "      <td>15.76</td>\n",
       "      <td>Whisky</td>\n",
       "    </tr>\n",
       "  </tbody>\n",
       "</table>\n",
       "<p>5 rows × 23 columns</p>\n",
       "</div>"
      ],
      "text/plain": [
       "         date  store_number          city zip_code  county_number  \\\n",
       "0  11/04/2015          3717        sumner    50674              9   \n",
       "4  08/18/2015          3654       belmond    50421             99   \n",
       "5  04/20/2015          2569  cedar rapids    52402             57   \n",
       "6  08/05/2015          2596       ottumwa    52501             90   \n",
       "7  06/25/2015          3456    clear lake    50428             17   \n",
       "\n",
       "        county  category            category_name  vendor_number  item_number  \\\n",
       "0       Bremer   1051100         APRICOT BRANDIES             55        54436   \n",
       "4       Wright   1031080           VODKA 80 PROOF            297        35918   \n",
       "5         Linn   1041100        AMERICAN DRY GINS            205        31473   \n",
       "6      Wapello   1051010  AMERICAN GRAPE BRANDIES             85        52806   \n",
       "7  Cerro Gordo   1012100        CANADIAN WHISKIES             65        10628   \n",
       "\n",
       "      ...      state_bottle_retail  bottles_sold  sale_dollars  \\\n",
       "0     ...                     6.75            12         81.00   \n",
       "4     ...                    10.80            12        129.60   \n",
       "5     ...                    19.98             6        119.88   \n",
       "6     ...                     9.99             3         29.97   \n",
       "7     ...                    23.63             2         47.26   \n",
       "\n",
       "   volume_sold_liters  volume_sold_gallons  year  month  day  profit  \\\n",
       "0                9.00                 2.38  2015     11    4   27.00   \n",
       "4               21.00                 5.55  2015      8   18   43.20   \n",
       "5               10.50                 2.77  2015      4   20   39.96   \n",
       "6                2.25                 0.59  2015      8    5    9.99   \n",
       "7                3.50                 0.92  2015      6   25   15.76   \n",
       "\n",
       "   liquor_type  \n",
       "0       Brandy  \n",
       "4        Vodka  \n",
       "5          Gin  \n",
       "6       Brandy  \n",
       "7       Whisky  \n",
       "\n",
       "[5 rows x 23 columns]"
      ]
     },
     "execution_count": 60,
     "metadata": {},
     "output_type": "execute_result"
    }
   ],
   "source": [
    "all_store[0:5]"
   ]
  },
  {
   "cell_type": "code",
   "execution_count": 62,
   "metadata": {
    "collapsed": false
   },
   "outputs": [
    {
     "name": "stderr",
     "output_type": "stream",
     "text": [
      "/Users/Kate/anaconda2/envs/econ/lib/python2.7/site-packages/ipykernel/__main__.py:2: SettingWithCopyWarning: \n",
      "A value is trying to be set on a copy of a slice from a DataFrame.\n",
      "Try using .loc[row_indexer,col_indexer] = value instead\n",
      "\n",
      "See the caveats in the documentation: http://pandas.pydata.org/pandas-docs/stable/indexing.html#indexing-view-versus-copy\n",
      "  from ipykernel import kernelapp as app\n",
      "/Users/Kate/anaconda2/envs/econ/lib/python2.7/site-packages/ipykernel/__main__.py:3: SettingWithCopyWarning: \n",
      "A value is trying to be set on a copy of a slice from a DataFrame\n",
      "\n",
      "See the caveats in the documentation: http://pandas.pydata.org/pandas-docs/stable/indexing.html#indexing-view-versus-copy\n",
      "  app.launch_new_instance()\n"
     ]
    },
    {
     "data": {
      "text/html": [
       "<div>\n",
       "<table border=\"1\" class=\"dataframe\">\n",
       "  <thead>\n",
       "    <tr style=\"text-align: right;\">\n",
       "      <th></th>\n",
       "      <th>date</th>\n",
       "      <th>store_number</th>\n",
       "      <th>city</th>\n",
       "      <th>zip_code</th>\n",
       "      <th>county_number</th>\n",
       "      <th>county</th>\n",
       "      <th>category</th>\n",
       "      <th>category_name</th>\n",
       "      <th>vendor_number</th>\n",
       "      <th>item_number</th>\n",
       "      <th>...</th>\n",
       "      <th>bottles_sold</th>\n",
       "      <th>sale_dollars</th>\n",
       "      <th>volume_sold_liters</th>\n",
       "      <th>volume_sold_gallons</th>\n",
       "      <th>year</th>\n",
       "      <th>month</th>\n",
       "      <th>day</th>\n",
       "      <th>profit</th>\n",
       "      <th>liquor_type</th>\n",
       "      <th>profit_per_gallon</th>\n",
       "    </tr>\n",
       "  </thead>\n",
       "  <tbody>\n",
       "    <tr>\n",
       "      <th>196351</th>\n",
       "      <td>02/26/2015</td>\n",
       "      <td>2663</td>\n",
       "      <td>urbandale</td>\n",
       "      <td>50322</td>\n",
       "      <td>77</td>\n",
       "      <td>Polk</td>\n",
       "      <td>1012200</td>\n",
       "      <td>SCOTCH WHISKIES</td>\n",
       "      <td>260</td>\n",
       "      <td>995381</td>\n",
       "      <td>...</td>\n",
       "      <td>1</td>\n",
       "      <td>637.50</td>\n",
       "      <td>0.75</td>\n",
       "      <td>0.20</td>\n",
       "      <td>2015</td>\n",
       "      <td>2</td>\n",
       "      <td>26</td>\n",
       "      <td>212.5</td>\n",
       "      <td>Whisky</td>\n",
       "      <td>1062.500000</td>\n",
       "    </tr>\n",
       "    <tr>\n",
       "      <th>255223</th>\n",
       "      <td>06/30/2015</td>\n",
       "      <td>3952</td>\n",
       "      <td>bettendorf</td>\n",
       "      <td>52722</td>\n",
       "      <td>82</td>\n",
       "      <td>Scott</td>\n",
       "      <td>1012200</td>\n",
       "      <td>SCOTCH WHISKIES</td>\n",
       "      <td>260</td>\n",
       "      <td>994764</td>\n",
       "      <td>...</td>\n",
       "      <td>1</td>\n",
       "      <td>524.99</td>\n",
       "      <td>0.75</td>\n",
       "      <td>0.20</td>\n",
       "      <td>2015</td>\n",
       "      <td>6</td>\n",
       "      <td>30</td>\n",
       "      <td>175.0</td>\n",
       "      <td>Whisky</td>\n",
       "      <td>875.000000</td>\n",
       "    </tr>\n",
       "    <tr>\n",
       "      <th>90202</th>\n",
       "      <td>11/09/2015</td>\n",
       "      <td>3952</td>\n",
       "      <td>bettendorf</td>\n",
       "      <td>52722</td>\n",
       "      <td>82</td>\n",
       "      <td>Scott</td>\n",
       "      <td>1042100</td>\n",
       "      <td>IMPORTED DRY GINS</td>\n",
       "      <td>35</td>\n",
       "      <td>902282</td>\n",
       "      <td>...</td>\n",
       "      <td>20</td>\n",
       "      <td>480.00</td>\n",
       "      <td>1.00</td>\n",
       "      <td>0.26</td>\n",
       "      <td>2015</td>\n",
       "      <td>11</td>\n",
       "      <td>9</td>\n",
       "      <td>160.0</td>\n",
       "      <td>Gin</td>\n",
       "      <td>615.384615</td>\n",
       "    </tr>\n",
       "    <tr>\n",
       "      <th>160897</th>\n",
       "      <td>09/08/2015</td>\n",
       "      <td>2665</td>\n",
       "      <td>waukee</td>\n",
       "      <td>50263</td>\n",
       "      <td>25</td>\n",
       "      <td>Dallas</td>\n",
       "      <td>1011200</td>\n",
       "      <td>STRAIGHT BOURBON WHISKIES</td>\n",
       "      <td>65</td>\n",
       "      <td>919471</td>\n",
       "      <td>...</td>\n",
       "      <td>10</td>\n",
       "      <td>235.80</td>\n",
       "      <td>0.50</td>\n",
       "      <td>0.13</td>\n",
       "      <td>2015</td>\n",
       "      <td>9</td>\n",
       "      <td>8</td>\n",
       "      <td>78.6</td>\n",
       "      <td>Whisky</td>\n",
       "      <td>604.615385</td>\n",
       "    </tr>\n",
       "    <tr>\n",
       "      <th>3011</th>\n",
       "      <td>06/23/2015</td>\n",
       "      <td>4070</td>\n",
       "      <td>belle plaine</td>\n",
       "      <td>52208</td>\n",
       "      <td>6</td>\n",
       "      <td>Benton</td>\n",
       "      <td>1052010</td>\n",
       "      <td>IMPORTED GRAPE BRANDIES</td>\n",
       "      <td>420</td>\n",
       "      <td>990482</td>\n",
       "      <td>...</td>\n",
       "      <td>1</td>\n",
       "      <td>449.99</td>\n",
       "      <td>1.00</td>\n",
       "      <td>0.26</td>\n",
       "      <td>2015</td>\n",
       "      <td>6</td>\n",
       "      <td>23</td>\n",
       "      <td>150.0</td>\n",
       "      <td>Brandy</td>\n",
       "      <td>576.923077</td>\n",
       "    </tr>\n",
       "  </tbody>\n",
       "</table>\n",
       "<p>5 rows × 24 columns</p>\n",
       "</div>"
      ],
      "text/plain": [
       "              date  store_number          city zip_code  county_number  \\\n",
       "196351  02/26/2015          2663     urbandale    50322             77   \n",
       "255223  06/30/2015          3952    bettendorf    52722             82   \n",
       "90202   11/09/2015          3952    bettendorf    52722             82   \n",
       "160897  09/08/2015          2665        waukee    50263             25   \n",
       "3011    06/23/2015          4070  belle plaine    52208              6   \n",
       "\n",
       "        county  category              category_name  vendor_number  \\\n",
       "196351    Polk   1012200            SCOTCH WHISKIES            260   \n",
       "255223   Scott   1012200            SCOTCH WHISKIES            260   \n",
       "90202    Scott   1042100          IMPORTED DRY GINS             35   \n",
       "160897  Dallas   1011200  STRAIGHT BOURBON WHISKIES             65   \n",
       "3011    Benton   1052010    IMPORTED GRAPE BRANDIES            420   \n",
       "\n",
       "        item_number        ...         bottles_sold  sale_dollars  \\\n",
       "196351       995381        ...                    1        637.50   \n",
       "255223       994764        ...                    1        524.99   \n",
       "90202        902282        ...                   20        480.00   \n",
       "160897       919471        ...                   10        235.80   \n",
       "3011         990482        ...                    1        449.99   \n",
       "\n",
       "        volume_sold_liters  volume_sold_gallons  year  month  day  profit  \\\n",
       "196351                0.75                 0.20  2015      2   26   212.5   \n",
       "255223                0.75                 0.20  2015      6   30   175.0   \n",
       "90202                 1.00                 0.26  2015     11    9   160.0   \n",
       "160897                0.50                 0.13  2015      9    8    78.6   \n",
       "3011                  1.00                 0.26  2015      6   23   150.0   \n",
       "\n",
       "        liquor_type  profit_per_gallon  \n",
       "196351       Whisky        1062.500000  \n",
       "255223       Whisky         875.000000  \n",
       "90202           Gin         615.384615  \n",
       "160897       Whisky         604.615385  \n",
       "3011         Brandy         576.923077  \n",
       "\n",
       "[5 rows x 24 columns]"
      ]
     },
     "execution_count": 62,
     "metadata": {},
     "output_type": "execute_result"
    }
   ],
   "source": [
    "# Test the relationship between the new broader and profit\n",
    "all_store['profit_per_gallon'] = all_store.profit/all_store.volume_sold_gallons\n",
    "all_store.sort_values('profit_per_gallon', ascending=False, inplace=True)\n",
    "all_store[0:5]"
   ]
  },
  {
   "cell_type": "code",
   "execution_count": 63,
   "metadata": {
    "collapsed": true
   },
   "outputs": [],
   "source": [
    "type_profit_gallon = all_store.groupby('liquor_type').profit_per_gallon.agg(np.mean).reset_index()"
   ]
  },
  {
   "cell_type": "code",
   "execution_count": 64,
   "metadata": {
    "collapsed": false
   },
   "outputs": [
    {
     "data": {
      "text/html": [
       "<div>\n",
       "<table border=\"1\" class=\"dataframe\">\n",
       "  <thead>\n",
       "    <tr style=\"text-align: right;\">\n",
       "      <th></th>\n",
       "      <th>liquor_type</th>\n",
       "      <th>profit_per_gallon</th>\n",
       "    </tr>\n",
       "  </thead>\n",
       "  <tbody>\n",
       "    <tr>\n",
       "      <th>5</th>\n",
       "      <td>Tequila</td>\n",
       "      <td>37.671973</td>\n",
       "    </tr>\n",
       "    <tr>\n",
       "      <th>0</th>\n",
       "      <td>Brandy</td>\n",
       "      <td>27.255699</td>\n",
       "    </tr>\n",
       "    <tr>\n",
       "      <th>2</th>\n",
       "      <td>Others</td>\n",
       "      <td>26.265337</td>\n",
       "    </tr>\n",
       "    <tr>\n",
       "      <th>8</th>\n",
       "      <td>Whisky</td>\n",
       "      <td>25.354103</td>\n",
       "    </tr>\n",
       "    <tr>\n",
       "      <th>3</th>\n",
       "      <td>Rum</td>\n",
       "      <td>18.545329</td>\n",
       "    </tr>\n",
       "  </tbody>\n",
       "</table>\n",
       "</div>"
      ],
      "text/plain": [
       "  liquor_type  profit_per_gallon\n",
       "5     Tequila          37.671973\n",
       "0      Brandy          27.255699\n",
       "2      Others          26.265337\n",
       "8      Whisky          25.354103\n",
       "3         Rum          18.545329"
      ]
     },
     "execution_count": 64,
     "metadata": {},
     "output_type": "execute_result"
    }
   ],
   "source": [
    "type_profit_gallon.sort_values('profit_per_gallon', ascending=False, inplace=True)\n",
    "type_profit_gallon[0:5]"
   ]
  },
  {
   "cell_type": "markdown",
   "metadata": {},
   "source": [
    "## 5. New store locations"
   ]
  },
  {
   "cell_type": "markdown",
   "metadata": {},
   "source": [
    "### 5-1 Sales in Q1(2015) and Q1(2016)"
   ]
  },
  {
   "cell_type": "code",
   "execution_count": 65,
   "metadata": {
    "collapsed": true
   },
   "outputs": [],
   "source": [
    "# Select the quarter periods\n",
    "# Source: ECON628 lecture notes\n",
    "set2015 = (iowa.month.isin([1,2,3])) & (iowa.year == 2015)\n",
    "set2016 = (iowa.month.isin([1,2,3])) & (iowa.year == 2016)\n",
    "\n",
    "iowa_q1_2015 = iowa[set2015]\n",
    "iowa_q1_2016 = iowa[set2016]"
   ]
  },
  {
   "cell_type": "code",
   "execution_count": 71,
   "metadata": {
    "collapsed": false
   },
   "outputs": [
    {
     "name": "stdout",
     "output_type": "stream",
     "text": [
      "      county  sale_dollars\n",
      "0      Adair   1277.750000\n",
      "1      Adams   2253.600000\n",
      "2  Allamakee   2484.663333\n",
      "3  Appanoose   2538.015000\n",
      "4    Audubon   2755.375000\n",
      "      county  sale_dollars\n",
      "0      Adair   1685.288571\n",
      "1      Adams   2196.570000\n",
      "2  Allamakee   3180.255000\n",
      "3  Appanoose   3566.038333\n",
      "4    Audubon   1613.140000\n"
     ]
    }
   ],
   "source": [
    "# Total sales per store in 2 periods\n",
    "q1_2015 = iowa_q1_2015.groupby(['store_number','county']).sale_dollars.agg(np.sum).reset_index()\n",
    "q1_2015 = q1_2015.groupby('county').sale_dollars.agg(np.mean).reset_index()\n",
    "print q1_2015[0:5]\n",
    "\n",
    "q1_2016 = iowa_q1_2016.groupby(['store_number','county']).sale_dollars.agg(np.sum).reset_index()\n",
    "q1_2016 = q1_2016.groupby('county').sale_dollars.agg(np.mean).reset_index()\n",
    "print q1_2016[0:5]"
   ]
  },
  {
   "cell_type": "code",
   "execution_count": 72,
   "metadata": {
    "collapsed": false
   },
   "outputs": [
    {
     "data": {
      "text/html": [
       "<div>\n",
       "<table border=\"1\" class=\"dataframe\">\n",
       "  <thead>\n",
       "    <tr style=\"text-align: right;\">\n",
       "      <th></th>\n",
       "      <th>county</th>\n",
       "      <th>sales_per_store_2015</th>\n",
       "      <th>sales_per_store_2016</th>\n",
       "    </tr>\n",
       "  </thead>\n",
       "  <tbody>\n",
       "    <tr>\n",
       "      <th>0</th>\n",
       "      <td>Adair</td>\n",
       "      <td>1277.750000</td>\n",
       "      <td>1685.288571</td>\n",
       "    </tr>\n",
       "    <tr>\n",
       "      <th>1</th>\n",
       "      <td>Adams</td>\n",
       "      <td>2253.600000</td>\n",
       "      <td>2196.570000</td>\n",
       "    </tr>\n",
       "    <tr>\n",
       "      <th>2</th>\n",
       "      <td>Allamakee</td>\n",
       "      <td>2484.663333</td>\n",
       "      <td>3180.255000</td>\n",
       "    </tr>\n",
       "    <tr>\n",
       "      <th>3</th>\n",
       "      <td>Appanoose</td>\n",
       "      <td>2538.015000</td>\n",
       "      <td>3566.038333</td>\n",
       "    </tr>\n",
       "    <tr>\n",
       "      <th>4</th>\n",
       "      <td>Audubon</td>\n",
       "      <td>2755.375000</td>\n",
       "      <td>1613.140000</td>\n",
       "    </tr>\n",
       "  </tbody>\n",
       "</table>\n",
       "</div>"
      ],
      "text/plain": [
       "      county  sales_per_store_2015  sales_per_store_2016\n",
       "0      Adair           1277.750000           1685.288571\n",
       "1      Adams           2253.600000           2196.570000\n",
       "2  Allamakee           2484.663333           3180.255000\n",
       "3  Appanoose           2538.015000           3566.038333\n",
       "4    Audubon           2755.375000           1613.140000"
      ]
     },
     "execution_count": 72,
     "metadata": {},
     "output_type": "execute_result"
    }
   ],
   "source": [
    "# Combine 2 periods\n",
    "q1_2015.rename(columns={'sale_dollars':'sales_per_store_2015'}, inplace=True)\n",
    "q1_2016.rename(columns={'sale_dollars':'sales_per_store_2016'}, inplace=True)\n",
    "\n",
    "q1_15_16 = q1_2015.merge(q1_2016, on='county')\n",
    "q1_15_16[0:5]"
   ]
  },
  {
   "cell_type": "code",
   "execution_count": 78,
   "metadata": {
    "collapsed": false
   },
   "outputs": [
    {
     "data": {
      "text/html": [
       "<div>\n",
       "<table border=\"1\" class=\"dataframe\">\n",
       "  <thead>\n",
       "    <tr style=\"text-align: right;\">\n",
       "      <th></th>\n",
       "      <th>county</th>\n",
       "      <th>sales_per_store_2015</th>\n",
       "      <th>sales_per_store_2016</th>\n",
       "      <th>%_increase</th>\n",
       "      <th>pct_increase</th>\n",
       "    </tr>\n",
       "  </thead>\n",
       "  <tbody>\n",
       "    <tr>\n",
       "      <th>0</th>\n",
       "      <td>Adair</td>\n",
       "      <td>1277.750000</td>\n",
       "      <td>1685.288571</td>\n",
       "      <td>1.318950</td>\n",
       "      <td>1.318950</td>\n",
       "    </tr>\n",
       "    <tr>\n",
       "      <th>1</th>\n",
       "      <td>Adams</td>\n",
       "      <td>2253.600000</td>\n",
       "      <td>2196.570000</td>\n",
       "      <td>0.974694</td>\n",
       "      <td>0.974694</td>\n",
       "    </tr>\n",
       "    <tr>\n",
       "      <th>2</th>\n",
       "      <td>Allamakee</td>\n",
       "      <td>2484.663333</td>\n",
       "      <td>3180.255000</td>\n",
       "      <td>1.279954</td>\n",
       "      <td>1.279954</td>\n",
       "    </tr>\n",
       "    <tr>\n",
       "      <th>3</th>\n",
       "      <td>Appanoose</td>\n",
       "      <td>2538.015000</td>\n",
       "      <td>3566.038333</td>\n",
       "      <td>1.405050</td>\n",
       "      <td>1.405050</td>\n",
       "    </tr>\n",
       "    <tr>\n",
       "      <th>4</th>\n",
       "      <td>Audubon</td>\n",
       "      <td>2755.375000</td>\n",
       "      <td>1613.140000</td>\n",
       "      <td>0.585452</td>\n",
       "      <td>0.585452</td>\n",
       "    </tr>\n",
       "  </tbody>\n",
       "</table>\n",
       "</div>"
      ],
      "text/plain": [
       "      county  sales_per_store_2015  sales_per_store_2016  %_increase  \\\n",
       "0      Adair           1277.750000           1685.288571    1.318950   \n",
       "1      Adams           2253.600000           2196.570000    0.974694   \n",
       "2  Allamakee           2484.663333           3180.255000    1.279954   \n",
       "3  Appanoose           2538.015000           3566.038333    1.405050   \n",
       "4    Audubon           2755.375000           1613.140000    0.585452   \n",
       "\n",
       "   pct_increase  \n",
       "0      1.318950  \n",
       "1      0.974694  \n",
       "2      1.279954  \n",
       "3      1.405050  \n",
       "4      0.585452  "
      ]
     },
     "execution_count": 78,
     "metadata": {},
     "output_type": "execute_result"
    }
   ],
   "source": [
    "# Calculate the difference in 2 periods in percentage increase\n",
    "q1_15_16['pct_increase'] = q1_15_16.sales_per_store_2016 / q1_15_16.sales_per_store_2015\n",
    "q1_15_16[0:5]"
   ]
  },
  {
   "cell_type": "code",
   "execution_count": 79,
   "metadata": {
    "collapsed": false
   },
   "outputs": [],
   "source": [
    "choice = q1_15_16[q1_15_16.pct_increase > 1.]"
   ]
  },
  {
   "cell_type": "code",
   "execution_count": 80,
   "metadata": {
    "collapsed": false
   },
   "outputs": [
    {
     "name": "stderr",
     "output_type": "stream",
     "text": [
      "/Users/Kate/anaconda2/envs/econ/lib/python2.7/site-packages/ipykernel/__main__.py:1: SettingWithCopyWarning: \n",
      "A value is trying to be set on a copy of a slice from a DataFrame.\n",
      "Try using .loc[row_indexer,col_indexer] = value instead\n",
      "\n",
      "See the caveats in the documentation: http://pandas.pydata.org/pandas-docs/stable/indexing.html#indexing-view-versus-copy\n",
      "  if __name__ == '__main__':\n",
      "/Users/Kate/anaconda2/envs/econ/lib/python2.7/site-packages/ipykernel/__main__.py:2: SettingWithCopyWarning: \n",
      "A value is trying to be set on a copy of a slice from a DataFrame\n",
      "\n",
      "See the caveats in the documentation: http://pandas.pydata.org/pandas-docs/stable/indexing.html#indexing-view-versus-copy\n",
      "  from ipykernel import kernelapp as app\n"
     ]
    },
    {
     "data": {
      "text/html": [
       "<div>\n",
       "<table border=\"1\" class=\"dataframe\">\n",
       "  <thead>\n",
       "    <tr style=\"text-align: right;\">\n",
       "      <th></th>\n",
       "      <th>county</th>\n",
       "      <th>sales_per_store_2015</th>\n",
       "      <th>sales_per_store_2016</th>\n",
       "      <th>%_increase</th>\n",
       "      <th>pct_increase</th>\n",
       "      <th>5yr_q1_estimate</th>\n",
       "    </tr>\n",
       "  </thead>\n",
       "  <tbody>\n",
       "    <tr>\n",
       "      <th>23</th>\n",
       "      <td>Crawford</td>\n",
       "      <td>3510.266667</td>\n",
       "      <td>7506.20000</td>\n",
       "      <td>2.138356</td>\n",
       "      <td>2.138356</td>\n",
       "      <td>335598.677621</td>\n",
       "    </tr>\n",
       "    <tr>\n",
       "      <th>97</th>\n",
       "      <td>Worth</td>\n",
       "      <td>2015.416667</td>\n",
       "      <td>3935.97000</td>\n",
       "      <td>1.952931</td>\n",
       "      <td>1.952931</td>\n",
       "      <td>111811.493642</td>\n",
       "    </tr>\n",
       "    <tr>\n",
       "      <th>15</th>\n",
       "      <td>Cedar</td>\n",
       "      <td>1240.208750</td>\n",
       "      <td>2473.06875</td>\n",
       "      <td>1.994075</td>\n",
       "      <td>1.994075</td>\n",
       "      <td>77972.809461</td>\n",
       "    </tr>\n",
       "    <tr>\n",
       "      <th>14</th>\n",
       "      <td>Cass</td>\n",
       "      <td>2308.604444</td>\n",
       "      <td>3473.28250</td>\n",
       "      <td>1.504494</td>\n",
       "      <td>1.504494</td>\n",
       "      <td>26772.751804</td>\n",
       "    </tr>\n",
       "    <tr>\n",
       "      <th>11</th>\n",
       "      <td>Butler</td>\n",
       "      <td>670.638571</td>\n",
       "      <td>1226.18000</td>\n",
       "      <td>1.828377</td>\n",
       "      <td>1.828377</td>\n",
       "      <td>25054.326271</td>\n",
       "    </tr>\n",
       "  </tbody>\n",
       "</table>\n",
       "</div>"
      ],
      "text/plain": [
       "      county  sales_per_store_2015  sales_per_store_2016  %_increase  \\\n",
       "23  Crawford           3510.266667            7506.20000    2.138356   \n",
       "97     Worth           2015.416667            3935.97000    1.952931   \n",
       "15     Cedar           1240.208750            2473.06875    1.994075   \n",
       "14      Cass           2308.604444            3473.28250    1.504494   \n",
       "11    Butler            670.638571            1226.18000    1.828377   \n",
       "\n",
       "    pct_increase  5yr_q1_estimate  \n",
       "23      2.138356    335598.677621  \n",
       "97      1.952931    111811.493642  \n",
       "15      1.994075     77972.809461  \n",
       "14      1.504494     26772.751804  \n",
       "11      1.828377     25054.326271  "
      ]
     },
     "execution_count": 80,
     "metadata": {},
     "output_type": "execute_result"
    }
   ],
   "source": [
    "choice['5yr_q1_estimate'] = choice.sales_per_store_2016 * (choice.pct_increase**5)\n",
    "choice.sort_values('5yr_q1_estimate', ascending=False, inplace=True)\n",
    "choice[0:5]"
   ]
  },
  {
   "cell_type": "markdown",
   "metadata": {},
   "source": [
    "## 6. Conclusion\n",
    "* In 2015, Dallas got the highest profit per gallon, which was 21.166285. \n",
    "* Also, we found that there exists positive relationship between profit and store size that a store with bigger size will have more profits.\n",
    "* When applying liquor type as the broader, tequila had the highest profit per gallon (37.671973) in 2015.\n",
    "* Finally, we separated our time into 2 periods, Q1(2015) and Q1(2016). Calclutaing the percentage difference, we concluded that Crawford is the best place to start a new store selling tequila.\n",
    "    "
   ]
  },
  {
   "cell_type": "code",
   "execution_count": null,
   "metadata": {
    "collapsed": true
   },
   "outputs": [],
   "source": []
  }
 ],
 "metadata": {
  "anaconda-cloud": {},
  "kernelspec": {
   "display_name": "Python [conda env:econ]",
   "language": "python",
   "name": "conda-env-econ-py"
  },
  "language_info": {
   "codemirror_mode": {
    "name": "ipython",
    "version": 2
   },
   "file_extension": ".py",
   "mimetype": "text/x-python",
   "name": "python",
   "nbconvert_exporter": "python",
   "pygments_lexer": "ipython2",
   "version": "2.7.12"
  }
 },
 "nbformat": 4,
 "nbformat_minor": 0
}
